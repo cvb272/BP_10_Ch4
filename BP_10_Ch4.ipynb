{
  "nbformat": 4,
  "nbformat_minor": 0,
  "metadata": {
    "colab": {
      "provenance": [],
      "authorship_tag": "ABX9TyNjvzs0UlZHzSamP1nRVS4N",
      "include_colab_link": true
    },
    "kernelspec": {
      "name": "python3",
      "display_name": "Python 3"
    },
    "language_info": {
      "name": "python"
    }
  },
  "cells": [
    {
      "cell_type": "markdown",
      "metadata": {
        "id": "view-in-github",
        "colab_type": "text"
      },
      "source": [
        "<a href=\"https://colab.research.google.com/github/cvb272/BP_10_Ch4/blob/main/BP_10_Ch4.ipynb\" target=\"_parent\"><img src=\"https://colab.research.google.com/assets/colab-badge.svg\" alt=\"Open In Colab\"/></a>"
      ]
    },
    {
      "cell_type": "code",
      "source": [
        "print(\"나는 \"+str(12)+\"개의 사과를 먹었다.\")"
      ],
      "metadata": {
        "id": "za1yIkiFUt3D",
        "colab": {
          "base_uri": "https://localhost:8080/"
        },
        "outputId": "5e063e9c-fd31-4a7c-ff81-77f6b6c6e416"
      },
      "execution_count": null,
      "outputs": [
        {
          "output_type": "stream",
          "name": "stdout",
          "text": [
            "나는 12개의 사과를 먹었다.\n"
          ]
        }
      ]
    },
    {
      "cell_type": "code",
      "source": [
        "print(\"apple\" + \"grape\")\n",
        "print(\"apple\"*3)"
      ],
      "metadata": {
        "id": "_Q18aeDHUuA7",
        "colab": {
          "base_uri": "https://localhost:8080/"
        },
        "outputId": "9e6c3c2f-2e3c-432b-aa1d-fc3c1c94a82b"
      },
      "execution_count": null,
      "outputs": [
        {
          "output_type": "stream",
          "name": "stdout",
          "text": [
            "applegrape\n",
            "appleappleapple\n"
          ]
        }
      ]
    },
    {
      "cell_type": "code",
      "source": [
        "s=(input(\"문자열을 입력하시오.:\"))\n",
        "print(s[0:2]+s[-2:])"
      ],
      "metadata": {
        "id": "iud6upLJUuJL",
        "colab": {
          "base_uri": "https://localhost:8080/"
        },
        "outputId": "e6e3d927-c7d9-4af3-8d06-e876aee41532"
      },
      "execution_count": null,
      "outputs": [
        {
          "output_type": "stream",
          "name": "stdout",
          "text": [
            "문자열을 입력하시오.:python\n",
            "pyon\n"
          ]
        }
      ]
    },
    {
      "cell_type": "code",
      "source": [
        "s=(input(\"문자열을 입력하시오.:\"))\n",
        "print(s+\"하는중\")"
      ],
      "metadata": {
        "id": "8bJB8AUiUwXz",
        "colab": {
          "base_uri": "https://localhost:8080/"
        },
        "outputId": "a788a904-f9e9-44a7-a9d6-89529782bf2b"
      },
      "execution_count": null,
      "outputs": [
        {
          "output_type": "stream",
          "name": "stdout",
          "text": [
            "문자열을 입력하시오.:청소\n",
            "청소하는중\n"
          ]
        }
      ]
    },
    {
      "cell_type": "code",
      "source": [
        "a=input(\"기호를 입력하시오.:\")\n",
        "b=input(\"중간에 삽입할 문자열을 입력하시오.:\")\n",
        "print(a[0]+b+a[1])"
      ],
      "metadata": {
        "id": "FzmmXRzsUuRc",
        "colab": {
          "base_uri": "https://localhost:8080/"
        },
        "outputId": "0801a98c-048a-4c9f-e0ef-394353c4d83b"
      },
      "execution_count": null,
      "outputs": [
        {
          "output_type": "stream",
          "name": "stdout",
          "text": [
            "기호를 입력하시오.:[]\n",
            "중간에 삽입할 문자열을 입력하시오.:python\n",
            "[python]\n"
          ]
        }
      ]
    },
    {
      "cell_type": "code",
      "source": [
        "a=[1,2,3,4]\n",
        "print(\"리스트=\",a)\n",
        "print(\"리스트 숫자들의 합=\", a[0]+a[1]+a[2]+a[3])"
      ],
      "metadata": {
        "id": "eGZBh2wKUueD",
        "colab": {
          "base_uri": "https://localhost:8080/"
        },
        "outputId": "d384eba1-f4d8-4c01-e5c9-582dd29c2b93"
      },
      "execution_count": 10,
      "outputs": [
        {
          "output_type": "stream",
          "name": "stdout",
          "text": [
            "리스트= [1, 2, 3, 4]\n",
            "리스트 숫자들의 합= 10\n"
          ]
        }
      ]
    }
  ]
}